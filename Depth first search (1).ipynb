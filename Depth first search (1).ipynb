{
 "cells": [
  {
   "cell_type": "code",
   "execution_count": 2,
   "id": "e80f3c9c",
   "metadata": {},
   "outputs": [
    {
     "name": "stdout",
     "output_type": "stream",
     "text": [
      "['A', 'B', 'D', 'E', 'F', 'C']\n",
      "{'A': None, 'B': 'A', 'C': 'A', 'D': 'B', 'E': 'B', 'F': 'E'}\n",
      "{'A': 'B', 'B': 'B', 'C': 'B', 'D': 'B', 'E': 'B', 'F': 'B'}\n",
      "A -> [0, 5]\n",
      "B -> [0, 3]\n",
      "C -> [4, 4]\n",
      "D -> [0, 0]\n",
      "E -> [1, 2]\n",
      "F -> [1, 1]\n"
     ]
    }
   ],
   "source": [
    "adj_list = {\n",
    "'A': ['B', 'C'], \n",
    "'B': ['D', 'E'], \n",
    "'C': ['B', 'F'], \n",
    "    'D': [],\n",
    "    'E': ['F'], \n",
    "    'F': []\n",
    "}\n",
    "\n",
    "color = {}\n",
    "parent = {}\n",
    "traverse_time = {}\n",
    "dfs_traversal_output = []\n",
    "\n",
    "for node in adj_list.keys(): \n",
    "    color[node] = 'w'\n",
    "    parent[node] = None \n",
    "    traverse_time[node] = [-1, -1] \n",
    "    \n",
    "time = 0\n",
    "    \n",
    "def dfs(u):\n",
    "    global time \n",
    "    color[u] = 'G'\n",
    "    traverse_time[u][0] = time\n",
    "    dfs_traversal_output.append(u) \n",
    "    for v in adj_list[u]:\n",
    "        if color[v] == 'w': \n",
    "            parent[v] = u \n",
    "            dfs(v) #rescursive\n",
    "    color[u] = 'B' \n",
    "    traverse_time[u][1] = time \n",
    "    time += 1 \n",
    "    \n",
    "dfs('A')\n",
    "print(dfs_traversal_output)\n",
    "print(parent)\n",
    "print(color)\n",
    "for node in adj_list.keys(): \n",
    "    print(node, \"->\", traverse_time[node])\n",
    "                    "
   ]
  },
  {
   "cell_type": "code",
   "execution_count": null,
   "id": "ae30e6b4",
   "metadata": {},
   "outputs": [],
   "source": []
  }
 ],
 "metadata": {
  "kernelspec": {
   "display_name": "Python 3 (ipykernel)",
   "language": "python",
   "name": "python3"
  },
  "language_info": {
   "codemirror_mode": {
    "name": "ipython",
    "version": 3
   },
   "file_extension": ".py",
   "mimetype": "text/x-python",
   "name": "python",
   "nbconvert_exporter": "python",
   "pygments_lexer": "ipython3",
   "version": "3.10.1"
  }
 },
 "nbformat": 4,
 "nbformat_minor": 5
}
